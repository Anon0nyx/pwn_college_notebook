{
 "cells": [
  {
   "cell_type": "raw",
   "id": "ddec095d-b729-49e4-b28d-4859f35bb928",
   "metadata": {},
   "source": [
    "Level 24 follows pretty closely to 23 but it expects input to be provided when the challenge file is executed as argv[1] this is done within the list inside the Popen() call"
   ]
  },
  {
   "cell_type": "code",
   "execution_count": null,
   "id": "80f6f39f-6b35-49d4-8e92-7ca24acc132d",
   "metadata": {},
   "outputs": [],
   "source": [
    "import subprocess\n",
    "\n",
    "foobar = subprocess.Popen([\"/challenge/./embryoio_level24\", \"<password>\"])\n",
    "foobar.wait()"
   ]
  }
 ],
 "metadata": {
  "kernelspec": {
   "display_name": "Python 3 (ipykernel)",
   "language": "python",
   "name": "python3"
  },
  "language_info": {
   "codemirror_mode": {
    "name": "ipython",
    "version": 3
   },
   "file_extension": ".py",
   "mimetype": "text/x-python",
   "name": "python",
   "nbconvert_exporter": "python",
   "pygments_lexer": "ipython3",
   "version": "3.9.9"
  }
 },
 "nbformat": 4,
 "nbformat_minor": 5
}
