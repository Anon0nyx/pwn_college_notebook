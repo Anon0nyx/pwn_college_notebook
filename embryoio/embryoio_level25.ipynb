{
 "cells": [
  {
   "cell_type": "raw",
   "id": "a29577b1-28ff-4e4a-86c0-c58271a3fb5d",
   "metadata": {},
   "source": [
    "This challenge wants you to set an environment variable using python, this is done with the os module using the environ[] functionality"
   ]
  },
  {
   "cell_type": "code",
   "execution_count": null,
   "id": "f0b07db8-bb99-4c9b-b666-76e126dd8f47",
   "metadata": {},
   "outputs": [],
   "source": [
    "import subprocess\n",
    "import os\n",
    "\n",
    "os.environ[\"<var name>\"] = \"<password>\"\n",
    "foobar = subprocess.Popen([\"/challenge/./embryoio_level25\"])\n",
    "foobar.wait()"
   ]
  }
 ],
 "metadata": {
  "kernelspec": {
   "display_name": "Python 3 (ipykernel)",
   "language": "python",
   "name": "python3"
  },
  "language_info": {
   "codemirror_mode": {
    "name": "ipython",
    "version": 3
   },
   "file_extension": ".py",
   "mimetype": "text/x-python",
   "name": "python",
   "nbconvert_exporter": "python",
   "pygments_lexer": "ipython3",
   "version": "3.9.9"
  }
 },
 "nbformat": 4,
 "nbformat_minor": 5
}
