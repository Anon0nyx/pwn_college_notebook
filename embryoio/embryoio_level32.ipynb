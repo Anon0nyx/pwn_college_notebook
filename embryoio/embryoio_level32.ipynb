{
 "cells": [
  {
   "cell_type": "raw",
   "id": "5a1c14fa-a0bd-4fb2-9dd7-3f8f09b3f598",
   "metadata": {},
   "source": [
    "The challenge here was to set an environment variable in C using the setenv function"
   ]
  },
  {
   "cell_type": "code",
   "execution_count": null,
   "id": "1d4d6b74-798e-42ae-b284-60b5c5b3f4eb",
   "metadata": {},
   "outputs": [],
   "source": [
    "%%file c_stuff/embryoio32.c\n",
    "\n",
    "#include <stdio.h>\n",
    "#include <unistd.h>\n",
    "#include <sys/types.h>\n",
    "\n",
    "void pwnchallenge(char *argv[], char *env[]) {\n",
    "    setenv(\"<var>\", \"<value>\", 1);\n",
    "    execve(\"/challenge/embryoio_level32\", argv, env);\n",
    "    return 0;\n",
    "}\n",
    "\n",
    "int main(int argc, char *argv[], char *env[]) {\n",
    "    pid_t fpid;\n",
    "    \n",
    "    fpid = fork(); # Create a fork and save the PID, PID 0 will be child process which is what we want to wait on\n",
    "    \n",
    "    if (fpid == 0) { # If we are onto the child process\n",
    "        pwncollege(argv, env);\n",
    "    } else {\n",
    "        wait(NULL); # Wait for child process to run before parent terminates *HINT* wait literally waits for the child process before terminating the parent.. that is what it does\n",
    "    }\n",
    "    return 0;\n",
    "}"
   ]
  }
 ],
 "metadata": {
  "kernelspec": {
   "display_name": "Python 3 (ipykernel)",
   "language": "python",
   "name": "python3"
  },
  "language_info": {
   "codemirror_mode": {
    "name": "ipython",
    "version": 3
   },
   "file_extension": ".py",
   "mimetype": "text/x-python",
   "name": "python",
   "nbconvert_exporter": "python",
   "pygments_lexer": "ipython3",
   "version": "3.9.9"
  }
 },
 "nbformat": 4,
 "nbformat_minor": 5
}
