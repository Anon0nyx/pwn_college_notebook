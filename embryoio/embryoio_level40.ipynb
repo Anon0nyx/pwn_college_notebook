{
 "cells": [
  {
   "cell_type": "raw",
   "id": "d70417bc-8afc-4c8c-9834-a422b3075b34",
   "metadata": {},
   "source": [
    "This one was a bit of a fun little trick. By giving the intital error message that the executable needs to be 'bash' I became a bit confused. The solution is ultimately very easy and simply requires naming the executable 'bash' and then using a pipe, as it also expects a pipe to stdout"
   ]
  },
  {
   "cell_type": "code",
   "execution_count": null,
   "id": "7b7083e7-2797-4206-abd9-9a8dfbd35eb8",
   "metadata": {},
   "outputs": [],
   "source": [
    "%%file c_stuff/embryoio38.c\n",
    "\n",
    "#include <stdio.h>\n",
    "#include <unistd.h>\n",
    "#include <sys/types.h>\n",
    "\n",
    "void pwnchallenge(char *argv[], char *env[]) {\n",
    "    execve(\"/challenge/embryoio_level38\", argv, env);\n",
    "    return 0;\n",
    "}\n",
    "\n",
    "int main(int argc, char *argv[], char *env[]) {\n",
    "    pid_t fpid;\n",
    "    \n",
    "    fpid = fork(); # Create a fork and save the PID, PID 0 will be child process which is what we want to wait on\n",
    "    \n",
    "    if (fpid == 0) { # If we are onto the child process\n",
    "        pwncollege(argv, env);\n",
    "    } else {\n",
    "        wait(NULL); # Wait for child process to run before parent terminates *HINT* wait literally waits for the child process before\n",
    "                                                #terminating the parent.. that is what it does\n",
    "    }\n",
    "    return 0;\n",
    "}"
   ]
  },
  {
   "cell_type": "code",
   "execution_count": null,
   "id": "d798c5b4-ec63-48c1-91ec-7110f00e0797",
   "metadata": {},
   "outputs": [],
   "source": [
    "! gcc c_stuff/embryoio36.c -o bash"
   ]
  },
  {
   "cell_type": "code",
   "execution_count": null,
   "id": "5c212081-927d-4ad9-986f-e0cd786270cf",
   "metadata": {},
   "outputs": [],
   "source": [
    "! cat | ./bash"
   ]
  },
  {
   "cell_type": "raw",
   "id": "4bb54828-3aa7-4cd0-8e26-deb0531f7a3f",
   "metadata": {},
   "source": [
    "Then immediately after enter the password provided"
   ]
  }
 ],
 "metadata": {
  "kernelspec": {
   "display_name": "Python 3 (ipykernel)",
   "language": "python",
   "name": "python3"
  },
  "language_info": {
   "codemirror_mode": {
    "name": "ipython",
    "version": 3
   },
   "file_extension": ".py",
   "mimetype": "text/x-python",
   "name": "python",
   "nbconvert_exporter": "python",
   "pygments_lexer": "ipython3",
   "version": "3.9.9"
  }
 },
 "nbformat": 4,
 "nbformat_minor": 5
}
