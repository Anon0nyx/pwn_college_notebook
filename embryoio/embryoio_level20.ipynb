{
 "cells": [
  {
   "cell_type": "markdown",
   "id": "f4887b9e-cc69-411a-a739-e981485d9033",
   "metadata": {},
   "source": [
    "Very similar to 19 but ueses stdout rather than in"
   ]
  },
  {
   "cell_type": "code",
   "execution_count": null,
   "id": "15e15d79-724d-419c-a2a2-06973c9388e0",
   "metadata": {},
   "outputs": [],
   "source": [
    "import subprocess\n",
    "\n",
    "foobar = open(\"/tmp/<file>\", \"w\") # w to create file\n",
    "\n",
    "subprocess.Popen(\"./embryoio_level20\", stdout=foobar)"
   ]
  },
  {
   "cell_type": "markdown",
   "id": "4d549adf-6545-4776-b024-cac63a625253",
   "metadata": {},
   "source": [
    "Check contents of /tmp/<file> to see flag"
   ]
  }
 ],
 "metadata": {
  "kernelspec": {
   "display_name": "Python 3 (ipykernel)",
   "language": "python",
   "name": "python3"
  },
  "language_info": {
   "codemirror_mode": {
    "name": "ipython",
    "version": 3
   },
   "file_extension": ".py",
   "mimetype": "text/x-python",
   "name": "python",
   "nbconvert_exporter": "python",
   "pygments_lexer": "ipython3",
   "version": "3.9.9"
  }
 },
 "nbformat": 4,
 "nbformat_minor": 5
}
