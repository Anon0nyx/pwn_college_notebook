{
 "cells": [
  {
   "cell_type": "markdown",
   "id": "d9d1a5fc-0bb8-4e85-975f-35472e301097",
   "metadata": {},
   "source": [
    "This challenge was focued on having the user run the challenge file from within a python environment. This was to be done by running the command: python my_script.py\n",
    "The issue that arose was when running the command the environment would become docker-init rather than python. The way around was to take advantage of the Popen().wait() function to ensure that the parent process did not terminate before waiting on the child process."
   ]
  },
  {
   "cell_type": "code",
   "execution_count": null,
   "id": "8d2daf41-3d48-4069-a562-de4a22250782",
   "metadata": {},
   "outputs": [],
   "source": [
    "import subprocess\n",
    "\n",
    "foobar = subprocess.Popen([\"./embryoio_level22\"])\n",
    "foobar.wait()"
   ]
  }
 ],
 "metadata": {
  "kernelspec": {
   "display_name": "Python 3 (ipykernel)",
   "language": "python",
   "name": "python3"
  },
  "language_info": {
   "codemirror_mode": {
    "name": "ipython",
    "version": 3
   },
   "file_extension": ".py",
   "mimetype": "text/x-python",
   "name": "python",
   "nbconvert_exporter": "python",
   "pygments_lexer": "ipython3",
   "version": "3.9.9"
  }
 },
 "nbformat": 4,
 "nbformat_minor": 5
}
