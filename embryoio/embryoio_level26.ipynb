{
 "cells": [
  {
   "cell_type": "raw",
   "id": "5582d773-8433-4293-9bfc-c854cc103b07",
   "metadata": {},
   "source": [
    "Embryoio 26 wanted you to put a password into a /tmp/<file> file and use that as the stdin for the challenge file while executing. "
   ]
  },
  {
   "cell_type": "code",
   "execution_count": null,
   "id": "5ea47e21-bfba-47aa-8e42-455192d68dd4",
   "metadata": {},
   "outputs": [],
   "source": [
    "import subprocess\n",
    "import os\n",
    "\n",
    "foobar = open(\"/tmp/<file>\")\n",
    "foo = subprocess.Popen([\"/challenge/./embryoio_level26\"], stdin=foobar)\n",
    "foo.wait()"
   ]
  }
 ],
 "metadata": {
  "kernelspec": {
   "display_name": "Python 3 (ipykernel)",
   "language": "python",
   "name": "python3"
  },
  "language_info": {
   "codemirror_mode": {
    "name": "ipython",
    "version": 3
   },
   "file_extension": ".py",
   "mimetype": "text/x-python",
   "name": "python",
   "nbconvert_exporter": "python",
   "pygments_lexer": "ipython3",
   "version": "3.9.9"
  }
 },
 "nbformat": 4,
 "nbformat_minor": 5
}
