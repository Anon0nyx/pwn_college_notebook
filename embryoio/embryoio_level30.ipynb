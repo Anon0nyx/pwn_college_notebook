{
 "cells": [
  {
   "cell_type": "raw",
   "id": "42b4f49a-5380-4f88-a12c-3b6fb5e44a6f",
   "metadata": {},
   "source": [
    "Number 30 was the exact same as 29 but when executed will ask the user to input a password that is provided on the spot. I will also try to get this notebook to execute C code because it seems like a lot of code from here on out will be either C or assembly"
   ]
  },
  {
   "cell_type": "code",
   "execution_count": null,
   "id": "eb1b65ac-84a5-41b8-a2a1-d5e1abb20925",
   "metadata": {},
   "outputs": [],
   "source": [
    "%%file c_stuff/embryoio30.c\n",
    "\n",
    "#include <stdio.h>\n",
    "#include <unistd.h>\n",
    "#include <sys/types.h>\n",
    "\n",
    "void pwnchallenge(char *argv[], char *env[]) {\n",
    "    execve(\"/challenge/embryoio_level30\", argv, env);\n",
    "    return 0;\n",
    "}\n",
    "\n",
    "int main(int argc, char *argv[], char *env[]) {\n",
    "    pid_t fpid;\n",
    "    \n",
    "    fpid = fork(); # Create a fork and save the PID, PID 0 will be child process which is what we want to wait on\n",
    "    \n",
    "    if (fpid == 0) { # If we are onto the child process\n",
    "        pwncollege(argv, env);\n",
    "    } else {\n",
    "        wait(NULL); # Wait for child process to run before parent terminates *HINT* wait literally waits for the child process before terminating the parent.. that is what it does\n",
    "    }\n",
    "    return 0;\n",
    "}"
   ]
  },
  {
   "cell_type": "code",
   "execution_count": null,
   "id": "14954a7a-dbc4-4851-add2-6954587c4d84",
   "metadata": {},
   "outputs": [],
   "source": [
    "! gcc c_stuff/embryoio30.c -o c_stuff/embryoio30"
   ]
  },
  {
   "cell_type": "code",
   "execution_count": null,
   "id": "f8c40657-e573-4098-b2af-74bd8b572240",
   "metadata": {},
   "outputs": [],
   "source": [
    "! ./c_stuff/embryoio30"
   ]
  },
  {
   "cell_type": "raw",
   "id": "eea805c8-52eb-462b-8c30-c69cb444c0b3",
   "metadata": {},
   "source": [
    "The above code will run but will not run successfully as the necessary /challenge directory DNE and neither does the challenge file"
   ]
  }
 ],
 "metadata": {
  "kernelspec": {
   "display_name": "Python 3 (ipykernel)",
   "language": "python",
   "name": "python3"
  },
  "language_info": {
   "codemirror_mode": {
    "name": "ipython",
    "version": 3
   },
   "file_extension": ".py",
   "mimetype": "text/x-python",
   "name": "python",
   "nbconvert_exporter": "python",
   "pygments_lexer": "ipython3",
   "version": "3.9.9"
  }
 },
 "nbformat": 4,
 "nbformat_minor": 5
}
