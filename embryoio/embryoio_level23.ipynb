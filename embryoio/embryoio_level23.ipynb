{
 "cells": [
  {
   "cell_type": "raw",
   "id": "c23f43a2-80df-4d69-90ef-1b995fef6e50",
   "metadata": {},
   "source": [
    "I believe this challenge was so easy for me because I have previously changed my python bash path to be python3.8 rather than python2.7 which was important because running the command as python my_scripy.py was the necessary syntax for the challenge. After that the program just asked me to input a password, without any coding from myself, and it provided the password. After entering the password I got the flag."
   ]
  },
  {
   "cell_type": "code",
   "execution_count": null,
   "id": "9acac254-ca49-49b5-8371-b5371edf785e",
   "metadata": {},
   "outputs": [],
   "source": [
    "import subprocess\n",
    "\n",
    "foobar = subprocess.Popen([\"/challenge/./embryoio_level23\"])\n",
    "foobar.wait()"
   ]
  }
 ],
 "metadata": {
  "kernelspec": {
   "display_name": "Python 3 (ipykernel)",
   "language": "python",
   "name": "python3"
  },
  "language_info": {
   "codemirror_mode": {
    "name": "ipython",
    "version": 3
   },
   "file_extension": ".py",
   "mimetype": "text/x-python",
   "name": "python",
   "nbconvert_exporter": "python",
   "pygments_lexer": "ipython3",
   "version": "3.9.9"
  }
 },
 "nbformat": 4,
 "nbformat_minor": 5
}
