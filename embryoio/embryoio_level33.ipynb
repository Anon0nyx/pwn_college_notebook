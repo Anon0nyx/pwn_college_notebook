{
 "cells": [
  {
   "cell_type": "raw",
   "id": "1a965e4a-7e09-4c53-b47a-16a1a4b4bf69",
   "metadata": {},
   "source": [
    "Traditionally, this challenge can be run the exact same as the last with stdin coming when the C program is executed like below"
   ]
  },
  {
   "cell_type": "code",
   "execution_count": null,
   "id": "0847380f-9b30-4a7c-9be8-c9f980e66e70",
   "metadata": {},
   "outputs": [],
   "source": [
    "%%file c_stuff/embryoio33.c\n",
    "\n",
    "#include <stdio.h>\n",
    "#include <unistd.h>\n",
    "#include <sys/types.h>\n",
    "\n",
    "void pwnchallenge(char *argv[], char *env[]) {\n",
    "    execve(\"/challenge/embryoio_level33\", argv, env);\n",
    "    return 0;\n",
    "}\n",
    "\n",
    "int main(int argc, char *argv[], char *env[]) {\n",
    "    pid_t fpid;\n",
    "    \n",
    "    fpid = fork(); # Create a fork and save the PID, PID 0 will be child process which is what we want to wait on\n",
    "    \n",
    "    if (fpid == 0) { # If we are onto the child process\n",
    "        pwncollege(argv, env);\n",
    "    } else {\n",
    "        wait(NULL); # Wait for child process to run before parent terminates *HINT* wait literally waits for the child process before terminating the parent.. that is what it does\n",
    "    }\n",
    "    return 0;\n",
    "}"
   ]
  },
  {
   "cell_type": "code",
   "execution_count": null,
   "id": "e67b2730-490e-4d17-b256-74dfd10cb901",
   "metadata": {},
   "outputs": [],
   "source": [
    "! echo \"<password>\" > /tmp/<file>"
   ]
  },
  {
   "cell_type": "code",
   "execution_count": null,
   "id": "2faa20ab-3098-4228-85fd-341baead9a63",
   "metadata": {},
   "outputs": [],
   "source": [
    "! gcc c_stuff/embryoio33.c -o c_stuff/embryoio33"
   ]
  },
  {
   "cell_type": "code",
   "execution_count": null,
   "id": "b6643e76-14de-46bc-97b9-eb500deb93c7",
   "metadata": {},
   "outputs": [],
   "source": [
    "! ./c_stuff/embryoio33 < /tmp/<file>"
   ]
  },
  {
   "cell_type": "raw",
   "id": "2a065e0e-319c-4b9e-81ce-54757690ccc0",
   "metadata": {},
   "source": [
    "Or, another way this challenge can be solved is by sending the input to stdin in C"
   ]
  },
  {
   "cell_type": "code",
   "execution_count": null,
   "id": "db586f58-4abe-4239-bf21-dd79dc481052",
   "metadata": {},
   "outputs": [],
   "source": [
    "#include <stdio.h>\n",
    "#include <sys/types.h>\n",
    "#include <sys/stat.h>\n",
    "#include <stdlib.h>\n",
    "#include <unistd.h>\n",
    "#include <fcntl.h>\n",
    "\n",
    "void pwncolleg() {\n",
    "    return\n",
    "}\n",
    "\n",
    "int main(void) {\n",
    "    pid_t pid;\n",
    "    int fd;\n",
    "    \n",
    "    fd = open(\"/tmp/<file>\", O_RDWR); // Open our file as read write\n",
    "    \n",
    "    if ((pid = fork()) == 0) {\n",
    "        /* Child */\n",
    "        dup2(fd, STDIN_FILENO); /* Change file descriptor from simple read/write to stdin */\n",
    "        close(fd);\n",
    "        execlp(\"/challenge/embryoio_level33\", \"embryoio_level33\", NULL);\n",
    "        perror(\"exec\");\n",
    "        return EXIT_FAILURE;\n",
    "    } else {\n",
    "        close(fd);\n",
    "        printf(\"Parent waiting\\n\");\n",
    "        getchar();\n",
    "    }\n",
    "    \n",
    "    return EXIT_SUCCESS;\n",
    "}"
   ]
  },
  {
   "cell_type": "raw",
   "id": "4b1b64ce-c76d-4f33-865a-00cc6cd4d795",
   "metadata": {},
   "source": [
    "This solution was not necessary for completion of the challenge but I imagine this method will come in handy later on in the challenges"
   ]
  }
 ],
 "metadata": {
  "kernelspec": {
   "display_name": "Python 3 (ipykernel)",
   "language": "python",
   "name": "python3"
  },
  "language_info": {
   "codemirror_mode": {
    "name": "ipython",
    "version": 3
   },
   "file_extension": ".py",
   "mimetype": "text/x-python",
   "name": "python",
   "nbconvert_exporter": "python",
   "pygments_lexer": "ipython3",
   "version": "3.9.9"
  }
 },
 "nbformat": 4,
 "nbformat_minor": 5
}
