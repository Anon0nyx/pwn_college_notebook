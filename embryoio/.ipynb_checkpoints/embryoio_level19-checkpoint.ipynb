{
 "cells": [
  {
   "cell_type": "markdown",
   "id": "c59e0330-7389-4381-9c0d-c9196e3b40b7",
   "metadata": {},
   "source": [
    "Embryoio level 19 python walkthrough\n",
    "The problem has the user inside of a python environment, ipython\n",
    "and then has the user run the project file with input directed to\n",
    "stdin coming from a file called /tmp/opadyl"
   ]
  },
  {
   "cell_type": "code",
   "execution_count": null,
   "id": "85ff4082-841e-4d25-bafc-fd347c9e705d",
   "metadata": {},
   "outputs": [],
   "source": [
    "import subprocess"
   ]
  },
  {
   "cell_type": "code",
   "execution_count": null,
   "id": "ef7631c6-50d1-41a7-b157-63f644d07928",
   "metadata": {},
   "outputs": [],
   "source": [
    "foobar = open(\"/tmp/<file>\")\n",
    "subprocess.Popen(\"./embryoio_level19\", stdin=foobar)"
   ]
  }
 ],
 "metadata": {
  "kernelspec": {
   "display_name": "Python 3 (ipykernel)",
   "language": "python",
   "name": "python3"
  },
  "language_info": {
   "codemirror_mode": {
    "name": "ipython",
    "version": 3
   },
   "file_extension": ".py",
   "mimetype": "text/x-python",
   "name": "python",
   "nbconvert_exporter": "python",
   "pygments_lexer": "ipython3",
   "version": "3.9.9"
  }
 },
 "nbformat": 4,
 "nbformat_minor": 5
}
