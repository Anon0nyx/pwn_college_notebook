{
 "cells": [
  {
   "cell_type": "raw",
   "id": "9129cbd1-9d53-49da-819c-e08799aeea63",
   "metadata": {},
   "source": [
    "This challenge wanted you to direct the challenge file stdout to a tmp file all done in python"
   ]
  },
  {
   "cell_type": "code",
   "execution_count": null,
   "id": "95b2afbd-bf15-4a69-aa22-8951b58e844c",
   "metadata": {},
   "outputs": [],
   "source": [
    "import subprocess\n",
    "\n",
    "foobar = open(\"/tmp/<file\", \"w\")\n",
    "foo = subprocess.Popen([\"/challenge/./embryoio_level27\"], stdout=foobar)\n",
    "foo.wait()"
   ]
  },
  {
   "cell_type": "raw",
   "id": "363ae4ae-7311-4d1a-b709-64cf61034d3d",
   "metadata": {},
   "source": [
    "After running the my_script.py file the flag will be inside of the /tmp/<file> file"
   ]
  }
 ],
 "metadata": {
  "kernelspec": {
   "display_name": "Python 3 (ipykernel)",
   "language": "python",
   "name": "python3"
  },
  "language_info": {
   "codemirror_mode": {
    "name": "ipython",
    "version": 3
   },
   "file_extension": ".py",
   "mimetype": "text/x-python",
   "name": "python",
   "nbconvert_exporter": "python",
   "pygments_lexer": "ipython3",
   "version": "3.9.9"
  }
 },
 "nbformat": 4,
 "nbformat_minor": 5
}
