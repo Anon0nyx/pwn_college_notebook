{
 "cells": [
  {
   "cell_type": "raw",
   "id": "89b4e295-da49-4afc-9103-67495dd26be7",
   "metadata": {},
   "source": [
    "This one really took a turn to the more technical as it jumps into C. The challenge expects you to use the exec() family of C functions to execute the challenge file but due to a parent process terminating without waiting on the child process. To combat this we wait unless we are on PID 0 and then we run the challenge file, example below in C code so will not run in jupyter labs properly."
   ]
  },
  {
   "cell_type": "code",
   "execution_count": null,
   "id": "d30146d6-0428-4c9b-aec5-eb4b3c50f195",
   "metadata": {},
   "outputs": [],
   "source": [
    "#include <stdio.h>\n",
    "#include <unistd.h>\n",
    "#include <sys/types.h>\n",
    "\n",
    "void pwnchallenge(char *argv[], char *env[]) {\n",
    "    execve(\"/challenge/embryoio_level29\", argv, env);\n",
    "    return 0;\n",
    "}\n",
    "\n",
    "int main(int argc, char *argv[], char *env[]) {\n",
    "    pid_t fpid;\n",
    "    \n",
    "    fpid = fork(); # Create a fork and save the PID, PID 0 will be child process which is what we want to wait on\n",
    "    \n",
    "    if (fpid == 0) { # If we are onto the child process\n",
    "        pwncollege(argv, env);\n",
    "    } else {\n",
    "        wait(NULL); # Wait for child process to run before parent terminates *HINT* wait literally waits for the child process before terminating the parent.. that is what it does\n",
    "    }\n",
    "    return 0;\n",
    "}"
   ]
  },
  {
   "cell_type": "raw",
   "id": "ff6b573b-80a0-4a61-873b-498f2cb8e755",
   "metadata": {},
   "source": [
    "https://www.geeksforgeeks.org/fork-system-call/\n",
    "https://github.com/JoonhyeonKim/pwncollege_writeups/blob/main/embryoio/emb29-fork-with-exec.md\n",
    "https://techaccess.in/2021/05/07/wait-and-waitpid-api/\n",
    "https://linuxhint.com/exec_linux_system_call_c/"
   ]
  }
 ],
 "metadata": {
  "kernelspec": {
   "display_name": "Python 3 (ipykernel)",
   "language": "python",
   "name": "python3"
  },
  "language_info": {
   "codemirror_mode": {
    "name": "ipython",
    "version": 3
   },
   "file_extension": ".py",
   "mimetype": "text/x-python",
   "name": "python",
   "nbconvert_exporter": "python",
   "pygments_lexer": "ipython3",
   "version": "3.9.9"
  }
 },
 "nbformat": 4,
 "nbformat_minor": 5
}
