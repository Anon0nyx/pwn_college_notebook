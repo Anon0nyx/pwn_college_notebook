{
 "cells": [
  {
   "cell_type": "markdown",
   "id": "0310680a-3cea-4075-986d-36e822b45879",
   "metadata": {},
   "source": [
    "Challenge is to run a bash file within a python environment without any env variables\n",
    "by default there are 30 variables"
   ]
  },
  {
   "cell_type": "code",
   "execution_count": null,
   "id": "8ebb749a-da00-46f7-8fb8-d9fe71e828d4",
   "metadata": {},
   "outputs": [],
   "source": [
    "import subprocess\n",
    "\n",
    "subprocess.Popen([\"env\", \"-i\", \"./embryoio_level21\"]) # Clear the env and then run our command"
   ]
  }
 ],
 "metadata": {
  "kernelspec": {
   "display_name": "Python 3 (ipykernel)",
   "language": "python",
   "name": "python3"
  },
  "language_info": {
   "codemirror_mode": {
    "name": "ipython",
    "version": 3
   },
   "file_extension": ".py",
   "mimetype": "text/x-python",
   "name": "python",
   "nbconvert_exporter": "python",
   "pygments_lexer": "ipython3",
   "version": "3.9.9"
  }
 },
 "nbformat": 4,
 "nbformat_minor": 5
}
