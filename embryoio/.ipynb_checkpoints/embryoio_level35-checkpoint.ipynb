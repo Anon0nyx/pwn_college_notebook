{
 "cells": [
  {
   "cell_type": "raw",
   "id": "9ca43a31-ad2e-4bcd-89f4-6b0cf3fc7275",
   "metadata": {},
   "source": [
    "Very similarly to the past few this challenge focued on modifying the environment variables before actually executing the C file we created"
   ]
  },
  {
   "cell_type": "code",
   "execution_count": null,
   "id": "c3395b8f-0713-49d2-bc6b-bba2eae33fd1",
   "metadata": {},
   "outputs": [],
   "source": [
    "%%file c_stuff/embryoio35.c\n",
    "\n",
    "#include <stdio.h>\n",
    "#include <unistd.h>\n",
    "#include <sys/types.h>\n",
    "\n",
    "void pwnchallenge(char *argv[], char *env[]) {\n",
    "    execve(\"/challenge/embryoio_level35\", argv, env);\n",
    "    return 0;\n",
    "}\n",
    "\n",
    "int main(int argc, char *argv[], char *env[]) {\n",
    "    pid_t fpid;\n",
    "    \n",
    "    fpid = fork(); # Create a fork and save the PID, PID 0 will be child process which is what we want to wait on\n",
    "    \n",
    "    if (fpid == 0) { # If we are onto the child process\n",
    "        pwncollege(argv, env);\n",
    "    } else {\n",
    "        wait(NULL); # Wait for child process to run before parent terminates *HINT* wait literally waits for the child process before terminating the parent.. that is what it does\n",
    "    }\n",
    "    return 0;\n",
    "}"
   ]
  },
  {
   "cell_type": "code",
   "execution_count": null,
   "id": "bf750469-8b7c-49fd-9cbf-cde0524f9dbd",
   "metadata": {},
   "outputs": [],
   "source": [
    "! gcc c_stuff/embryoio35.c -o c_stuff/embryoio35"
   ]
  },
  {
   "cell_type": "code",
   "execution_count": null,
   "id": "bccd27a2-d588-458d-a233-d317e052b932",
   "metadata": {},
   "outputs": [],
   "source": [
    "! env -i ./c_stuff/embryoio35"
   ]
  },
  {
   "cell_type": "code",
   "execution_count": null,
   "id": "90adcdc3-6c22-42ed-b53a-457437a188b8",
   "metadata": {},
   "outputs": [],
   "source": [
    "By cleaning the environment before calling out C file it ensures that when it calls the challenge file the environment is clear"
   ]
  }
 ],
 "metadata": {
  "kernelspec": {
   "display_name": "Python 3 (ipykernel)",
   "language": "python",
   "name": "python3"
  },
  "language_info": {
   "codemirror_mode": {
    "name": "ipython",
    "version": 3
   },
   "file_extension": ".py",
   "mimetype": "text/x-python",
   "name": "python",
   "nbconvert_exporter": "python",
   "pygments_lexer": "ipython3",
   "version": "3.9.9"
  }
 },
 "nbformat": 4,
 "nbformat_minor": 5
}
