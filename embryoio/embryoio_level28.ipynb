{
 "cells": [
  {
   "cell_type": "raw",
   "id": "2a35bb00-e9d1-4d13-aeb1-44e6c344634a",
   "metadata": {},
   "source": [
    "Essentially a copy of embryoio 21, in this we have to set the environment to have zero variables using the env -i command"
   ]
  },
  {
   "cell_type": "code",
   "execution_count": null,
   "id": "319faabb-1253-4262-9094-32823b0a1fc0",
   "metadata": {},
   "outputs": [],
   "source": [
    "import subprocess\n",
    "\n",
    "foobar = subprocess.Popen([\"env\", \"-i\", \"/challenge/./embryoio_level28\"])\n",
    "foobar.wait()"
   ]
  }
 ],
 "metadata": {
  "kernelspec": {
   "display_name": "Python 3 (ipykernel)",
   "language": "python",
   "name": "python3"
  },
  "language_info": {
   "codemirror_mode": {
    "name": "ipython",
    "version": 3
   },
   "file_extension": ".py",
   "mimetype": "text/x-python",
   "name": "python",
   "nbconvert_exporter": "python",
   "pygments_lexer": "ipython3",
   "version": "3.9.9"
  }
 },
 "nbformat": 4,
 "nbformat_minor": 5
}
