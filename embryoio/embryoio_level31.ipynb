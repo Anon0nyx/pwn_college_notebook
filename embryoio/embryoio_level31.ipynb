{
 "cells": [
  {
   "cell_type": "raw",
   "id": "c7b0ae1a-7544-46a4-9785-7da7a67777bf",
   "metadata": {},
   "source": [
    "This challenge, similarly to the last requires a password to be presented but it is expected to be done within the argv variable"
   ]
  },
  {
   "cell_type": "code",
   "execution_count": null,
   "id": "c7af91ec-c91a-4b48-aa45-394db05200c6",
   "metadata": {},
   "outputs": [],
   "source": [
    "%%file c_stuff/embryoio31.c\n",
    "\n",
    "#include <stdio.h>\n",
    "#include <unistd.h>\n",
    "#include <sys/types.h>\n",
    "\n",
    "void pwnchallenge(char *argv[], char *env[]) {\n",
    "    execve(\"/challenge/embryoio_level31\", argv, env);\n",
    "    return 0;\n",
    "}\n",
    "\n",
    "int main(int argc, char *argv[], char *env[]) {\n",
    "    pid_t fpid;\n",
    "    \n",
    "    fpid = fork(); # Create a fork and save the PID, PID 0 will be child process which is what we want to wait on\n",
    "    \n",
    "    argv[1] = \"<password>\";\n",
    "    if (fpid == 0) { # If we are onto the child process\n",
    "        pwncollege(argv, env);\n",
    "    } else {\n",
    "        wait(NULL); # Wait for child process to run before parent terminates *HINT* wait literally waits for the child process before terminating the parent.. that is what it does\n",
    "    }\n",
    "    return 0;\n",
    "}"
   ]
  },
  {
   "cell_type": "code",
   "execution_count": null,
   "id": "c40fe829-2354-4624-aeed-d2ad9f6bef76",
   "metadata": {},
   "outputs": [],
   "source": [
    "! gcc c_stuff/embryoio31.c"
   ]
  },
  {
   "cell_type": "code",
   "execution_count": null,
   "id": "6ec7d65a-3531-4a62-a1b7-c6a67774c4db",
   "metadata": {},
   "outputs": [],
   "source": [
    "! ./c_stuff/embryoio31"
   ]
  }
 ],
 "metadata": {
  "kernelspec": {
   "display_name": "Python 3 (ipykernel)",
   "language": "python",
   "name": "python3"
  },
  "language_info": {
   "codemirror_mode": {
    "name": "ipython",
    "version": 3
   },
   "file_extension": ".py",
   "mimetype": "text/x-python",
   "name": "python",
   "nbconvert_exporter": "python",
   "pygments_lexer": "ipython3",
   "version": "3.9.9"
  }
 },
 "nbformat": 4,
 "nbformat_minor": 5
}
