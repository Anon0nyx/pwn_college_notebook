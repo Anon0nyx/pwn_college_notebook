{
 "cells": [
  {
   "cell_type": "raw",
   "id": "e17eed79-cc20-44f2-9525-da05920cd5d7",
   "metadata": {},
   "source": [
    "Exactly the same as the last but utilizes stdout rather than stdin"
   ]
  },
  {
   "cell_type": "code",
   "execution_count": null,
   "id": "6a565815-9917-422d-a72a-999a24ca1426",
   "metadata": {},
   "outputs": [],
   "source": [
    "%%file c_stuff/embryoio34.c\n",
    "\n",
    "#include <stdio.h>\n",
    "#include <unistd.h>\n",
    "#include <sys/types.h>\n",
    "\n",
    "void pwnchallenge(char *argv[], char *env[]) {\n",
    "    execve(\"/challenge/embryoio_level34\", argv, env);\n",
    "    return 0;\n",
    "}\n",
    "\n",
    "int main(int argc, char *argv[], char *env[]) {\n",
    "    pid_t fpid;\n",
    "    \n",
    "    fpid = fork(); # Create a fork and save the PID, PID 0 will be child process which is what we want to wait on\n",
    "    \n",
    "    if (fpid == 0) { # If we are onto the child process\n",
    "        pwncollege(argv, env);\n",
    "    } else {\n",
    "        wait(NULL); # Wait for child process to run before parent terminates *HINT* wait literally waits for the child process before terminating the parent.. that is what it does\n",
    "    }\n",
    "    return 0;\n",
    "}"
   ]
  },
  {
   "cell_type": "code",
   "execution_count": null,
   "id": "2359750f-206d-476b-b2bb-e75dd073fe13",
   "metadata": {},
   "outputs": [],
   "source": [
    "! gcc c_stuff/embryoio34.c -o c_stuff/embryoio34"
   ]
  },
  {
   "cell_type": "code",
   "execution_count": null,
   "id": "fa6c1ec6-9a69-44c7-ae2d-f463641ca494",
   "metadata": {},
   "outputs": [],
   "source": [
    "! ./c_stuff/embryoio34 > /tmp/<file>"
   ]
  }
 ],
 "metadata": {
  "kernelspec": {
   "display_name": "Python 3 (ipykernel)",
   "language": "python",
   "name": "python3"
  },
  "language_info": {
   "codemirror_mode": {
    "name": "ipython",
    "version": 3
   },
   "file_extension": ".py",
   "mimetype": "text/x-python",
   "name": "python",
   "nbconvert_exporter": "python",
   "pygments_lexer": "ipython3",
   "version": "3.9.9"
  }
 },
 "nbformat": 4,
 "nbformat_minor": 5
}
