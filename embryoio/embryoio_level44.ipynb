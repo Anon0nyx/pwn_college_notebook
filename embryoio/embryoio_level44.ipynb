{
 "cells": [
  {
   "cell_type": "raw",
   "id": "d70417bc-8afc-4c8c-9834-a422b3075b34",
   "metadata": {},
   "source": [
    "This one was almost a bit too predictable in my opinion"
   ]
  },
  {
   "cell_type": "code",
   "execution_count": null,
   "id": "7b7083e7-2797-4206-abd9-9a8dfbd35eb8",
   "metadata": {},
   "outputs": [],
   "source": [
    "%%file bash_stuff/embryoio43.sh\n",
    "\n",
    "/challenge/./embryoio_level43"
   ]
  },
  {
   "cell_type": "code",
   "execution_count": null,
   "id": "4ec2a184-0d02-4a2d-9a74-9bfa57c7d576",
   "metadata": {},
   "outputs": [],
   "source": [
    "bash bash_stuff/embryoio43.sh | sed -n 'p'"
   ]
  }
 ],
 "metadata": {
  "kernelspec": {
   "display_name": "Python 3 (ipykernel)",
   "language": "python",
   "name": "python3"
  },
  "language_info": {
   "codemirror_mode": {
    "name": "ipython",
    "version": 3
   },
   "file_extension": ".py",
   "mimetype": "text/x-python",
   "name": "python",
   "nbconvert_exporter": "python",
   "pygments_lexer": "ipython3",
   "version": "3.9.9"
  }
 },
 "nbformat": 4,
 "nbformat_minor": 5
}
